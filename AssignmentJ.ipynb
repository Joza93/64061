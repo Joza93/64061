{
  "nbformat": 4,
  "nbformat_minor": 0,
  "metadata": {
    "colab": {
      "provenance": [],
      "authorship_tag": "ABX9TyNPVrfpiuhBD5bSVOYhGFsp",
      "include_colab_link": true
    },
    "kernelspec": {
      "name": "python3",
      "display_name": "Python 3"
    },
    "language_info": {
      "name": "python"
    }
  },
  "cells": [
    {
      "cell_type": "markdown",
      "metadata": {
        "id": "view-in-github",
        "colab_type": "text"
      },
      "source": [
        "<a href=\"https://colab.research.google.com/github/Joza93/64061_Joza/blob/main/AssignmentJ.ipynb\" target=\"_parent\"><img src=\"https://colab.research.google.com/assets/colab-badge.svg\" alt=\"Open In Colab\"/></a>"
      ]
    },
    {
      "cell_type": "code",
      "execution_count": null,
      "metadata": {
        "id": "o9gTsWLDkXY9"
      },
      "outputs": [],
      "source": [
        "\n",
        "from tensorflow.keras.datasets import imdb\n",
        "(train_data, train_labels), (test_data, test_labels) = imdb.load_data(\n",
        "    num_words=10000)"
      ]
    },
    {
      "cell_type": "code",
      "source": [
        "train_labels[0]\n"
      ],
      "metadata": {
        "colab": {
          "base_uri": "https://localhost:8080/"
        },
        "id": "dID0xGn3lYUH",
        "outputId": "b180225b-1b5f-43f5-96d4-4aa0a43e589d"
      },
      "execution_count": null,
      "outputs": [
        {
          "output_type": "execute_result",
          "data": {
            "text/plain": [
              "1"
            ]
          },
          "metadata": {},
          "execution_count": 4
        }
      ]
    },
    {
      "cell_type": "code",
      "source": [
        "max([max(sequence) for sequence in train_data])"
      ],
      "metadata": {
        "colab": {
          "base_uri": "https://localhost:8080/"
        },
        "id": "mccEaIdlldxh",
        "outputId": "c29e17ba-aaab-403e-814b-ca6949df2ec3"
      },
      "execution_count": null,
      "outputs": [
        {
          "output_type": "execute_result",
          "data": {
            "text/plain": [
              "9999"
            ]
          },
          "metadata": {},
          "execution_count": 5
        }
      ]
    },
    {
      "cell_type": "code",
      "source": [
        "word_index = imdb.get_word_index()\n",
        "reverse_word_index = dict(\n",
        "    [(value, key) for (key, value) in word_index.items()])\n",
        "decoded_review = \" \".join(\n",
        "    [reverse_word_index.get(i - 3, \"?\") for i in train_data[0]])"
      ],
      "metadata": {
        "colab": {
          "base_uri": "https://localhost:8080/"
        },
        "id": "OQegj7MVl7wy",
        "outputId": "a9ea93d9-e826-482b-ef82-601599c74e53"
      },
      "execution_count": null,
      "outputs": [
        {
          "output_type": "stream",
          "name": "stdout",
          "text": [
            "Downloading data from https://storage.googleapis.com/tensorflow/tf-keras-datasets/imdb_word_index.json\n",
            "1641221/1641221 [==============================] - 0s 0us/step\n"
          ]
        }
      ]
    },
    {
      "cell_type": "code",
      "source": [
        "import numpy as np\n",
        "def vectorize_sequences(sequences, dimension=10000):\n",
        "    results = np.zeros((len(sequences), dimension))\n",
        "    for i, sequence in enumerate(sequences):\n",
        "        for j in sequence:\n",
        "            results[i, j] = 1.\n",
        "    return results\n",
        "x_train = vectorize_sequences(train_data)\n",
        "x_test = vectorize_sequences(test_data)"
      ],
      "metadata": {
        "id": "xMqGI6Mtl--5"
      },
      "execution_count": null,
      "outputs": []
    },
    {
      "cell_type": "code",
      "source": [
        "x_train[0]"
      ],
      "metadata": {
        "colab": {
          "base_uri": "https://localhost:8080/"
        },
        "id": "FqlMR7K3mFIs",
        "outputId": "6429f091-e18e-4700-ced1-fbf0a3de517c"
      },
      "execution_count": null,
      "outputs": [
        {
          "output_type": "execute_result",
          "data": {
            "text/plain": [
              "array([0., 1., 1., ..., 0., 0., 0.])"
            ]
          },
          "metadata": {},
          "execution_count": 8
        }
      ]
    },
    {
      "cell_type": "code",
      "source": [
        "\n",
        "y_train = np.asarray(train_labels).astype(\"float32\")\n",
        "y_test = np.asarray(test_labels).astype(\"float32\")"
      ],
      "metadata": {
        "id": "KLPWh4TCmJhZ"
      },
      "execution_count": null,
      "outputs": []
    },
    {
      "cell_type": "code",
      "source": [
        "from tensorflow import keras\n",
        "from tensorflow.keras import layers\n",
        "\n",
        "model = keras.Sequential([\n",
        "    layers.Dense(32, activation=\"tanh\"),\n",
        "    layers.Dense(32, activation=\"tanh\"),\n",
        "    layers.Dense(32, activation=\"tanh\"),\n",
        "    layers.Dense(1, activation=\"sigmoid\")\n",
        "])"
      ],
      "metadata": {
        "id": "T4vDH9yYmN8y"
      },
      "execution_count": null,
      "outputs": []
    },
    {
      "cell_type": "code",
      "source": [
        "model.compile(optimizer=\"adam\", \n",
        "              loss=\"mean_squared_error\",\n",
        "              metrics=[\"accuracy\"])"
      ],
      "metadata": {
        "id": "NhGxG0nOmPaN"
      },
      "execution_count": null,
      "outputs": []
    },
    {
      "cell_type": "markdown",
      "source": [
        "Validate the approach "
      ],
      "metadata": {
        "id": "hFEQIt1gmYmE"
      }
    },
    {
      "cell_type": "code",
      "source": [
        "x_val = x_train[:10000]\n",
        "partial_x_train = x_train[10000:]\n",
        "y_val = y_train[:10000]\n",
        "partial_y_train = y_train[10000:]"
      ],
      "metadata": {
        "id": "4xJnHezKmTI9"
      },
      "execution_count": null,
      "outputs": []
    },
    {
      "cell_type": "code",
      "source": [
        "## model planned to train with 20 epoch with batch size of 256\n",
        "\n",
        "history = model.fit(partial_x_train,\n",
        "                    partial_y_train,\n",
        "                    epochs=20,\n",
        "                    batch_size=256,\n",
        "                    validation_data=(x_val, y_val))"
      ],
      "metadata": {
        "colab": {
          "base_uri": "https://localhost:8080/"
        },
        "id": "4ojQvHwim2xl",
        "outputId": "79acac1d-8dab-4101-ceca-64740ef2dd93"
      },
      "execution_count": null,
      "outputs": [
        {
          "output_type": "stream",
          "name": "stdout",
          "text": [
            "Epoch 1/20\n",
            "59/59 [==============================] - 5s 51ms/step - loss: 0.1221 - accuracy: 0.8333 - val_loss: 0.0918 - val_accuracy: 0.8773\n",
            "Epoch 2/20\n",
            "59/59 [==============================] - 3s 51ms/step - loss: 0.0495 - accuracy: 0.9366 - val_loss: 0.0905 - val_accuracy: 0.8784\n",
            "Epoch 3/20\n",
            "59/59 [==============================] - 2s 39ms/step - loss: 0.0312 - accuracy: 0.9636 - val_loss: 0.0999 - val_accuracy: 0.8721\n",
            "Epoch 4/20\n",
            "59/59 [==============================] - 2s 30ms/step - loss: 0.0229 - accuracy: 0.9738 - val_loss: 0.1050 - val_accuracy: 0.8724\n",
            "Epoch 5/20\n",
            "59/59 [==============================] - 2s 31ms/step - loss: 0.0187 - accuracy: 0.9789 - val_loss: 0.1126 - val_accuracy: 0.8672\n",
            "Epoch 6/20\n",
            "59/59 [==============================] - 2s 41ms/step - loss: 0.0168 - accuracy: 0.9813 - val_loss: 0.1176 - val_accuracy: 0.8635\n",
            "Epoch 7/20\n",
            "59/59 [==============================] - 2s 31ms/step - loss: 0.0173 - accuracy: 0.9807 - val_loss: 0.1187 - val_accuracy: 0.8662\n",
            "Epoch 8/20\n",
            "59/59 [==============================] - 2s 30ms/step - loss: 0.0163 - accuracy: 0.9817 - val_loss: 0.1189 - val_accuracy: 0.8666\n",
            "Epoch 9/20\n",
            "59/59 [==============================] - 2s 30ms/step - loss: 0.0171 - accuracy: 0.9803 - val_loss: 0.1213 - val_accuracy: 0.8636\n",
            "Epoch 10/20\n",
            "59/59 [==============================] - 1s 25ms/step - loss: 0.0153 - accuracy: 0.9824 - val_loss: 0.1257 - val_accuracy: 0.8601\n",
            "Epoch 11/20\n",
            "59/59 [==============================] - 1s 25ms/step - loss: 0.0153 - accuracy: 0.9829 - val_loss: 0.1239 - val_accuracy: 0.8628\n",
            "Epoch 12/20\n",
            "59/59 [==============================] - 2s 31ms/step - loss: 0.0136 - accuracy: 0.9854 - val_loss: 0.1260 - val_accuracy: 0.8610\n",
            "Epoch 13/20\n",
            "59/59 [==============================] - 2s 42ms/step - loss: 0.0120 - accuracy: 0.9875 - val_loss: 0.1269 - val_accuracy: 0.8610\n",
            "Epoch 14/20\n",
            "59/59 [==============================] - 2s 32ms/step - loss: 0.0115 - accuracy: 0.9874 - val_loss: 0.1264 - val_accuracy: 0.8621\n",
            "Epoch 15/20\n",
            "59/59 [==============================] - 1s 25ms/step - loss: 0.0113 - accuracy: 0.9881 - val_loss: 0.1261 - val_accuracy: 0.8637\n",
            "Epoch 16/20\n",
            "59/59 [==============================] - 1s 25ms/step - loss: 0.0107 - accuracy: 0.9888 - val_loss: 0.1291 - val_accuracy: 0.8598\n",
            "Epoch 17/20\n",
            "59/59 [==============================] - 1s 25ms/step - loss: 0.0100 - accuracy: 0.9901 - val_loss: 0.1278 - val_accuracy: 0.8612\n",
            "Epoch 18/20\n",
            "59/59 [==============================] - 1s 25ms/step - loss: 0.0108 - accuracy: 0.9886 - val_loss: 0.1275 - val_accuracy: 0.8629\n",
            "Epoch 19/20\n",
            "59/59 [==============================] - 1s 24ms/step - loss: 0.0119 - accuracy: 0.9873 - val_loss: 0.1305 - val_accuracy: 0.8607\n",
            "Epoch 20/20\n",
            "59/59 [==============================] - 2s 32ms/step - loss: 0.0130 - accuracy: 0.9859 - val_loss: 0.1281 - val_accuracy: 0.8628\n"
          ]
        }
      ]
    },
    {
      "cell_type": "code",
      "source": [
        "history_dict = history.history\n",
        "history_dict.keys()"
      ],
      "metadata": {
        "colab": {
          "base_uri": "https://localhost:8080/"
        },
        "id": "Ca_nc6hCsIJs",
        "outputId": "582f88e7-bc4a-4865-8d25-aca219d2ebcc"
      },
      "execution_count": null,
      "outputs": [
        {
          "output_type": "execute_result",
          "data": {
            "text/plain": [
              "dict_keys(['loss', 'accuracy', 'val_loss', 'val_accuracy'])"
            ]
          },
          "metadata": {},
          "execution_count": 14
        }
      ]
    },
    {
      "cell_type": "code",
      "source": [
        "import matplotlib.pyplot as plt\n",
        "history_dict = history.history\n",
        "loss_values = history_dict[\"loss\"]\n",
        "val_loss_values = history_dict[\"val_loss\"]\n",
        "epochs = range(1, len(loss_values) + 1)\n",
        "plt.plot(epochs, loss_values, \"bo\", label=\"Training loss\")\n",
        "plt.plot(epochs, val_loss_values, \"b\", label=\"Validation loss\")\n",
        "plt.title(\"Training and validation loss\")\n",
        "plt.xlabel(\"Epochs\")\n",
        "plt.ylabel(\"Loss\")\n",
        "plt.legend()\n",
        "plt.show()"
      ],
      "metadata": {
        "colab": {
          "base_uri": "https://localhost:8080/",
          "height": 295
        },
        "id": "_Ncw2bGRsUds",
        "outputId": "0bf690ed-807c-4c5f-b595-30565cd49941"
      },
      "execution_count": null,
      "outputs": [
        {
          "output_type": "display_data",
          "data": {
            "text/plain": [
              "<Figure size 432x288 with 1 Axes>"
            ],
            "image/png": "[encoded data removed]"
          },
          "metadata": {
            "needs_background": "light"
          }
        }
      ]
    },
    {
      "cell_type": "code",
      "source": [
        "plt.clf()\n",
        "acc = history_dict[\"accuracy\"]\n",
        "val_acc = history_dict[\"val_accuracy\"]\n",
        "plt.plot(epochs, acc, \"bo\", label=\"Training acc\")\n",
        "plt.plot(epochs, val_acc, \"b\", label=\"Validation acc\")\n",
        "plt.title(\"Training and validation accuracy\")\n",
        "plt.xlabel(\"Epochs\")\n",
        "plt.ylabel(\"Accuracy\")\n",
        "plt.legend()\n",
        "plt.show()\n"
      ],
      "metadata": {
        "colab": {
          "base_uri": "https://localhost:8080/",
          "height": 295
        },
        "id": "P3xaReuesXV-",
        "outputId": "0a418bb4-8885-4dfc-8aab-2a4e273c55e9"
      },
      "execution_count": null,
      "outputs": [
        {
          "output_type": "display_data",
          "data": {
            "text/plain": [
              "<Figure size 432x288 with 1 Axes>"
            ],
            "image/png": "[encoded data removed]"
          },
          "metadata": {
            "needs_background": "light"
          }
        }
      ]
    },
    {
      "cell_type": "code",
      "source": [
        "results = model.evaluate(x_test, y_test)"
      ],
      "metadata": {
        "colab": {
          "base_uri": "https://localhost:8080/"
        },
        "id": "UlXiKqfZsfkU",
        "outputId": "c904f4b9-51ac-4608-c178-aa6aa98eb9b9"
      },
      "execution_count": null,
      "outputs": [
        {
          "output_type": "stream",
          "name": "stdout",
          "text": [
            "782/782 [==============================] - 2s 3ms/step - loss: 0.1396 - accuracy: 0.8504\n"
          ]
        }
      ]
    },
    {
      "cell_type": "code",
      "source": [
        "results"
      ],
      "metadata": {
        "colab": {
          "base_uri": "https://localhost:8080/"
        },
        "id": "gG3VjoWBthZU",
        "outputId": "cc722a28-b9a6-40be-e863-7f77d2c59f13"
      },
      "execution_count": 18,
      "outputs": [
        {
          "output_type": "execute_result",
          "data": {
            "text/plain": [
              "[0.13963362574577332, 0.8504400253295898]"
            ]
          },
          "metadata": {},
          "execution_count": 18
        }
      ]
    },
    {
      "cell_type": "markdown",
      "source": [
        "Combining all code together along with dropout layer"
      ],
      "metadata": {
        "id": "v4gBbR5FtmRS"
      }
    },
    {
      "cell_type": "code",
      "source": [
        "# Libraries required for setting up an environment\n",
        "\n",
        "#####################################\n",
        "from tensorflow import keras\n",
        "from tensorflow.keras import layers\n",
        "from keras.layers import Dense\n",
        "from keras.layers import Dropout\n",
        "from tensorflow.keras import regularizers\n",
        "#####################################\n",
        "\n",
        "# Neural network implementation using 3 layered approach with a single dropout layer\n",
        "#######################################\n",
        "model = keras.Sequential()\n",
        "model.add(Dense(32,activation='tanh')) \n",
        "model.add(Dropout(0.5))\n",
        "#kernel_regularizer=regularizers.L1(0.01), activity_regularizer=regularizers.L2(0.01))\n",
        "model.add(Dense(32,activation='tanh',kernel_regularizer=regularizers.L1(0.01), activity_regularizer=regularizers.L2(0.01)))\n",
        "model.add(Dropout(0.5))\n",
        "model.add(Dense(32,activation='tanh'))\n",
        "model.add(Dense(1, activation='sigmoid'))\n",
        "########################################\n",
        "\n",
        "# Here for compilation we used optimizer \"adagrad\", mean squared error loss and accuracy metrics\n",
        "########################################\n",
        "model.compile(optimizer=\"adam\",\n",
        "              loss=\"mean_squared_error\",\n",
        "              metrics=[\"accuracy\"])\n",
        "########################################\n",
        "\n",
        "## splitting the data\n",
        "#######################################\n",
        "x_val = x_train[:10000]\n",
        "partial_x_train = x_train[10000:]\n",
        "y_val = y_train[:10000]\n",
        "partial_y_train = y_train[10000:]\n",
        "#######################################\n",
        "\n",
        "# Train a neural network\n",
        "#####################################################\n",
        "history = model.fit(partial_x_train,\n",
        "                    partial_y_train,\n",
        "                    epochs=20,\n",
        "                    batch_size=256,\n",
        "                    validation_data=(x_val, y_val))\n",
        "#####################################################\n",
        "\n",
        "# plotting the Training and Validation accuracy\n",
        "####################################################\n",
        "plt.clf()\n",
        "acc = history_dict[\"accuracy\"]\n",
        "val_acc = history_dict[\"val_accuracy\"]\n",
        "plt.plot(epochs, acc, \"bo\", label=\"Training acc\")\n",
        "plt.plot(epochs, val_acc, \"b\", label=\"Validation acc\")\n",
        "plt.title(\"Training and validation accuracy\")\n",
        "plt.xlabel(\"Epochs\")\n",
        "plt.ylabel(\"Accuracy\")\n",
        "plt.legend()\n",
        "plt.show()\n",
        "####################################################\n",
        "\n",
        "\n",
        "# Evaluating the results\n",
        "results = model.evaluate(x_test, y_test)\n",
        "results"
      ],
      "metadata": {
        "colab": {
          "base_uri": "https://localhost:8080/",
          "height": 1000
        },
        "id": "6GIW3RNNtpP4",
        "outputId": "d8609f93-2646-4417-96d8-1d662f625ae6"
      },
      "execution_count": 19,
      "outputs": [
        {
          "output_type": "stream",
          "name": "stdout",
          "text": [
            "Epoch 1/20\n",
            "59/59 [==============================] - 4s 44ms/step - loss: 1.4771 - accuracy: 0.7899 - val_loss: 1.1444 - val_accuracy: 0.8815\n",
            "Epoch 2/20\n",
            "59/59 [==============================] - 2s 34ms/step - loss: 0.9187 - accuracy: 0.9067 - val_loss: 0.7037 - val_accuracy: 0.8885\n",
            "Epoch 3/20\n",
            "59/59 [==============================] - 1s 25ms/step - loss: 0.5217 - accuracy: 0.9328 - val_loss: 0.3894 - val_accuracy: 0.8867\n",
            "Epoch 4/20\n",
            "59/59 [==============================] - 1s 24ms/step - loss: 0.2571 - accuracy: 0.9461 - val_loss: 0.1966 - val_accuracy: 0.8834\n",
            "Epoch 5/20\n",
            "59/59 [==============================] - 2s 30ms/step - loss: 0.1212 - accuracy: 0.9573 - val_loss: 0.1295 - val_accuracy: 0.8880\n",
            "Epoch 6/20\n",
            "59/59 [==============================] - 1s 25ms/step - loss: 0.0842 - accuracy: 0.9641 - val_loss: 0.1177 - val_accuracy: 0.8860\n",
            "Epoch 7/20\n",
            "59/59 [==============================] - 1s 25ms/step - loss: 0.0713 - accuracy: 0.9685 - val_loss: 0.1138 - val_accuracy: 0.8852\n",
            "Epoch 8/20\n",
            "59/59 [==============================] - 2s 31ms/step - loss: 0.0626 - accuracy: 0.9742 - val_loss: 0.1111 - val_accuracy: 0.8838\n",
            "Epoch 9/20\n",
            "59/59 [==============================] - 2s 39ms/step - loss: 0.0562 - accuracy: 0.9778 - val_loss: 0.1094 - val_accuracy: 0.8836\n",
            "Epoch 10/20\n",
            "59/59 [==============================] - 2s 34ms/step - loss: 0.0503 - accuracy: 0.9803 - val_loss: 0.1105 - val_accuracy: 0.8812\n",
            "Epoch 11/20\n",
            "59/59 [==============================] - 1s 25ms/step - loss: 0.0460 - accuracy: 0.9841 - val_loss: 0.1134 - val_accuracy: 0.8780\n",
            "Epoch 12/20\n",
            "59/59 [==============================] - 2s 31ms/step - loss: 0.0422 - accuracy: 0.9858 - val_loss: 0.1118 - val_accuracy: 0.8794\n",
            "Epoch 13/20\n",
            "59/59 [==============================] - 2s 30ms/step - loss: 0.0387 - accuracy: 0.9879 - val_loss: 0.1106 - val_accuracy: 0.8786\n",
            "Epoch 14/20\n",
            "59/59 [==============================] - 1s 25ms/step - loss: 0.0360 - accuracy: 0.9887 - val_loss: 0.1131 - val_accuracy: 0.8765\n",
            "Epoch 15/20\n",
            "59/59 [==============================] - 1s 25ms/step - loss: 0.0340 - accuracy: 0.9904 - val_loss: 0.1128 - val_accuracy: 0.8762\n",
            "Epoch 16/20\n",
            "59/59 [==============================] - 2s 34ms/step - loss: 0.0314 - accuracy: 0.9919 - val_loss: 0.1130 - val_accuracy: 0.8759\n",
            "Epoch 17/20\n",
            "59/59 [==============================] - 2s 39ms/step - loss: 0.0303 - accuracy: 0.9921 - val_loss: 0.1130 - val_accuracy: 0.8734\n",
            "Epoch 18/20\n",
            "59/59 [==============================] - 2s 30ms/step - loss: 0.0283 - accuracy: 0.9933 - val_loss: 0.1146 - val_accuracy: 0.8745\n",
            "Epoch 19/20\n",
            "59/59 [==============================] - 1s 25ms/step - loss: 0.0269 - accuracy: 0.9941 - val_loss: 0.1155 - val_accuracy: 0.8714\n",
            "Epoch 20/20\n",
            "59/59 [==============================] - 2s 30ms/step - loss: 0.0255 - accuracy: 0.9944 - val_loss: 0.1169 - val_accuracy: 0.8725\n"
          ]
        },
        {
          "output_type": "display_data",
          "data": {
            "text/plain": [
              "<Figure size 432x288 with 1 Axes>"
            ],
            "image/png": "[encoded data removed]"
          },
          "metadata": {
            "needs_background": "light"
          }
        },
        {
          "output_type": "stream",
          "name": "stdout",
          "text": [
            "782/782 [==============================] - 3s 4ms/step - loss: 0.1256 - accuracy: 0.8600\n"
          ]
        },
        {
          "output_type": "execute_result",
          "data": {
            "text/plain": [
              "[0.12557224929332733, 0.8599600195884705]"
            ]
          },
          "metadata": {},
          "execution_count": 19
        }
      ]
    },
    {
      "cell_type": "markdown",
      "source": [
        "**Summary**:\n",
        "* In order for our neural network to\n",
        "function properly, we first acquired the necessary libraries. TensorFlow has better implementation and support than other deep learning libraries like Pytorch, according to my research and study\n",
        "\n",
        "List of imports are:\n",
        "\n",
        "from tensorflow import keras\n",
        "from tensorflow leras import layers from keras.layers import Dense from kent.layers import Dropout\n",
        "\n",
        "\n",
        "\n",
        "* we imported keras, keras.layers, Dense and Dropouts. Each of its own has a significant importance in its implementation. Keras is the high-level API of TensorFlow 2: an approachable, highly productive interface for solving machine learning problems, with a focus on modern deep learning. \n",
        "The core data structures of Keras are layers and models. The simplest type of model is the Sequential model, a linear stack of layers. \n",
        "Dense represent the number of hidden units in the neural network.\n",
        "Dropout: The significance of dropout is taking a bunch of inputs or hidden layer input, random remove the connections. model = keras.Sequential() ----- Sequential model is the simplest mode of keras, which is stack up the layers in the sequences. model.add(Dense(32,activation='tanh')) Stacking layers is easy using the. add function. Also 32 represents the No. of hidden units and we use the activation function tanh. \n",
        "\n",
        "Contents of neural networks:\n",
        "\n",
        "\n",
        "\n",
        "1. Input Layer: Where we provide our input to it. – here we provide vector representation of IMDB data\n",
        "2. Hidden layers: It contains the number of dense units, and we can stack up as many layers as we want depending on the requirement.\n",
        "3. Output layer – output layer, Preferably the output layer has 1 dense unit.\n",
        "\n",
        "Here in this task we have tried to implement three layered approach as per the requirement given in the assignment. model = keras.Sequential([ layers.Dense(32, activation=\"tanh\"), layers.Dense(32, activation=\"tanh\"), layers.Dense(32, activation=\"tanh\"), layers.Dense(1, activation=\"sigmoid\") ])\n",
        "\n",
        "The above code model initialized as sequential. And we stack up three layers with 32 dense units and tanh activation function. In the task, I implemented tanh instead of relu as suggested in the assignment. model.compile(optimizer=\"adagrad\", loss=\"mean_squared_error\", metrics=[\"accuracy\"]) The above piece of code uses an optimizer adagrad with mse loss. I still have a doubt here initially IMBD data uses a loss of binary_crossentrophy which is a probabilistic loss and what if we changed the regression loss. More information will be available in 2nd reference link. Optimizers are very important to minimize the error and we have different techniques/optimizers. For example, adam is considered as good optimizers among the different approaches. In this task, I used adagrad. More details about optimizers will be explained in the 3nd reference link.  We split the data into training and validation part and the code below shows the split\n",
        "\n",
        "x_val = x_train[:10000] partial_x_train = x_train[10000:] y_val = y_train[:10000] partial_y_train = y_train[10000:] Training the data history = model.fit(partial_x_train, partial_y_train, epochs=20, batch_size=256, validation_data=(x_val, y_val)) The above line of code represent it will train the neural network with 20 epoch and batch size of 256 and parallely it compare with validation data. I used L1 and L2 regularizers but it does not gives much impact on the total validation accuracy.\n",
        "\n",
        "\n",
        "\n",
        "\n",
        "\n",
        "\n",
        "\n"
      ],
      "metadata": {
        "id": "hBMVkUOOubAi"
      }
    },
    {
      "cell_type": "markdown",
      "source": [
        "**Conclusions**\n",
        "1. Neural network designed with 3 layers\n",
        "2. Activation functions tanh is used instead of relu\n",
        "3. Optimizer adam is used instead of rmsprop\n",
        "4. L1 & L2 regularizers are used\n",
        "4. Dropout layer with 0.5 is used. That means we are dropping 50 percent of inputs during the training."
      ],
      "metadata": {
        "id": "ukEyh3j9ABOc"
      }
    }
  ]
}